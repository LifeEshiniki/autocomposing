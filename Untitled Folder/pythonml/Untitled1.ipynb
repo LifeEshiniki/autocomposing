{
 "cells": [
  {
   "cell_type": "code",
   "execution_count": 2,
   "metadata": {
    "collapsed": false
   },
   "outputs": [],
   "source": [
    "import numpy as np \n",
    "import scipy as sp \n",
    "from matplotlib import pyplot as plt\n",
    "import pandas as pd\n",
    "import deap\n",
    "\n",
    "\n"
   ]
  },
  {
   "cell_type": "code",
   "execution_count": 3,
   "metadata": {
    "collapsed": true
   },
   "outputs": [],
   "source": [
    "import random\n",
    "\n",
    "from deap import base\n",
    "from deap import creator\n",
    "from deap import tools"
   ]
  },
  {
   "cell_type": "code",
   "execution_count": 4,
   "metadata": {
    "collapsed": true
   },
   "outputs": [],
   "source": [
    "creator.create(\"FitnessMax\", base.Fitness, weights=(1.0,))\n",
    "creator.create(\"Individual\", list, fitness=creator.FitnessMax)"
   ]
  },
  {
   "cell_type": "code",
   "execution_count": 5,
   "metadata": {
    "collapsed": true
   },
   "outputs": [],
   "source": [
    "toolbox = base.Toolbox()\n",
    "# random.randintに0,1の引数を与えて作成（０、１をランダムに生成）\n",
    "toolbox.register(\"attr_bool\", random.randint, 0, 1)\n",
    "# Structure initializers\n",
    "toolbox.register(\"individual\", tools.initRepeat, creator.Individual, \n",
    "    toolbox.attr_bool, 100)\n",
    "toolbox.register(\"population\", tools.initRepeat, list, toolbox.individual)\n"
   ]
  },
  {
   "cell_type": "code",
   "execution_count": 6,
   "metadata": {
    "collapsed": true
   },
   "outputs": [],
   "source": [
    "def evalOneMax(individual):\n",
    "    return sum(individual),\n",
    "\n",
    "toolbox.register(\"evaluate\", evalOneMax)\n",
    "toolbox.register(\"mate\", tools.cxTwoPoints)\n",
    "toolbox.register(\"mutate\", tools.mutFlipBit, indpb=0.05)\n",
    "toolbox.register(\"select\", tools.selTournament, tournsize=3)"
   ]
  },
  {
   "cell_type": "code",
   "execution_count": 7,
   "metadata": {
    "collapsed": true
   },
   "outputs": [],
   "source": [
    "def main():\n",
    "    random.seed(100)\n",
    "    # 初期の個体群を生成\n",
    "    pop = toolbox.population(n=300)\n",
    "    CXPB, MUTPB, NGEN = 0.7, 0.03, 40 # 交差確率、突然変異確率、進化計算のループ回数\n",
    "\n",
    "    print(\"Start of evolution\")\n",
    "\n",
    "    # 初期の個体群の評価\n",
    "    fitnesses = list(map(toolbox.evaluate, pop))\n",
    "    for ind, fit in zip(pop, fitnesses):\n",
    "        ind.fitness.values = fit\n",
    "\n",
    "    print(\"  Evaluated %i individuals\" % len(pop))\n",
    "\n",
    "    # 進化計算開始\n",
    "    for g in range(NGEN):\n",
    "        print(\"-- Generation %i --\" % g)\n",
    "\n",
    "        # 次世代の個体群を選択\n",
    "        offspring = toolbox.select(pop, len(pop))\n",
    "        # 個体群のクローンを生成\n",
    "        offspring = list(map(toolbox.clone, offspring))\n",
    "\n",
    "        # 選択した個体群に交差と突然変異を適応する\n",
    "        # 偶数番目と奇数番目の個体を取り出して交差\n",
    "        for child1, child2 in zip(offspring[::2], offspring[1::2]):\n",
    "            if random.random() < CXPB:\n",
    "                toolbox.mate(child1, child2)\n",
    "                del child1.fitness.values\n",
    "                del child2.fitness.values\n",
    "\n",
    "        for mutant in offspring:\n",
    "            if random.random() < MUTPB:\n",
    "                toolbox.mutate(mutant)\n",
    "                del mutant.fitness.values\n",
    "\n",
    "        # 適合度が計算されていない個体を集めて適合度を計算\n",
    "        invalid_ind = [ind for ind in offspring if not ind.fitness.valid]\n",
    "        fitnesses = map(toolbox.evaluate, invalid_ind)\n",
    "        for ind, fit in zip(invalid_ind, fitnesses):\n",
    "            ind.fitness.values = fit\n",
    "\n",
    "        print(\"  Evaluated %i individuals\" % len(invalid_ind))\n",
    "\n",
    "        # 次世代群をoffspringにする\n",
    "        pop[:] = offspring\n",
    "\n",
    "        # すべての個体の適合度を配列にする\n",
    "        fits = [ind.fitness.values[0] for ind in pop]\n",
    "\n",
    "        length = len(pop)\n",
    "        mean = sum(fits) / length\n",
    "        sum2 = sum(x*x for x in fits)\n",
    "        std = abs(sum2 / length - mean**2)**0.5\n",
    "\n",
    "        print(\"  Min %s\" % min(fits))\n",
    "        print(\"  Max %s\" % max(fits))\n",
    "        print(\"  Avg %s\" % mean)\n",
    "        print(\"  Std %s\" % std)\n",
    "\n",
    "    print(\"-- End of (successful) evolution --\")\n",
    "\n",
    "    best_ind = tools.selBest(pop, 1)[0]\n",
    "    print(\"Best individual is %s, %s\" % (best_ind, best_ind.fitness.values))"
   ]
  },
  {
   "cell_type": "code",
   "execution_count": 12,
   "metadata": {
    "collapsed": false,
    "scrolled": false
   },
   "outputs": [
    {
     "name": "stdout",
     "output_type": "stream",
     "text": [
      "Start of evolution\n",
      "  Evaluated 300 individuals\n",
      "-- Generation 0 --\n",
      "  Evaluated 214 individuals\n",
      "  Min 42.0\n",
      "  Max 64.0\n",
      "  Avg 54.61\n",
      "  Std 3.912105145144579\n",
      "-- Generation 1 --\n",
      "  Evaluated 226 individuals\n",
      "  Min 47.0\n",
      "  Max 68.0\n",
      "  Avg 57.78\n",
      "  Std 3.352352407887144\n"
     ]
    },
    {
     "name": "stderr",
     "output_type": "stream",
     "text": [
      "C:\\Users\\match\\Anaconda3\\lib\\site-packages\\deap\\tools\\crossover.py:61: FutureWarning: tools.cxTwoPoints has been renamed. Use cxTwoPoint instead.\n",
      "  FutureWarning)\n"
     ]
    },
    {
     "name": "stdout",
     "output_type": "stream",
     "text": [
      "-- Generation 2 --\n",
      "  Evaluated 208 individuals\n",
      "  Min 52.0\n",
      "  Max 70.0\n",
      "  Avg 60.50666666666667\n",
      "  Std 3.137401614216574\n",
      "-- Generation 3 --\n",
      "  Evaluated 227 individuals\n",
      "  Min 53.0\n",
      "  Max 73.0\n",
      "  Avg 62.93666666666667\n",
      "  Std 3.1399557675582135\n",
      "-- Generation 4 --\n",
      "  Evaluated 204 individuals\n",
      "  Min 55.0\n",
      "  Max 75.0\n",
      "  Avg 65.5\n",
      "  Std 3.291909273759993\n",
      "-- Generation 5 --\n",
      "  Evaluated 209 individuals\n",
      "  Min 61.0\n",
      "  Max 76.0\n",
      "  Avg 68.00333333333333\n",
      "  Std 2.762243452139741\n",
      "-- Generation 6 --\n",
      "  Evaluated 200 individuals\n",
      "  Min 61.0\n",
      "  Max 78.0\n",
      "  Avg 70.21\n",
      "  Std 2.887773075110813\n",
      "-- Generation 7 --\n",
      "  Evaluated 213 individuals\n",
      "  Min 64.0\n",
      "  Max 79.0\n",
      "  Avg 72.35\n",
      "  Std 2.7216722800515796\n",
      "-- Generation 8 --\n",
      "  Evaluated 204 individuals\n",
      "  Min 68.0\n",
      "  Max 81.0\n",
      "  Avg 74.78\n",
      "  Std 2.3885002267809226\n",
      "-- Generation 9 --\n",
      "  Evaluated 215 individuals\n",
      "  Min 69.0\n",
      "  Max 83.0\n",
      "  Avg 76.89666666666666\n",
      "  Std 2.272881186707709\n",
      "-- Generation 10 --\n",
      "  Evaluated 207 individuals\n",
      "  Min 72.0\n",
      "  Max 85.0\n",
      "  Avg 78.61666666666666\n",
      "  Std 2.0743807643622367\n",
      "-- Generation 11 --\n",
      "  Evaluated 218 individuals\n",
      "  Min 73.0\n",
      "  Max 86.0\n",
      "  Avg 80.32333333333334\n",
      "  Std 1.9946901736579845\n",
      "-- Generation 12 --\n",
      "  Evaluated 209 individuals\n",
      "  Min 74.0\n",
      "  Max 87.0\n",
      "  Avg 81.69\n",
      "  Std 1.9392180554715395\n",
      "-- Generation 13 --\n",
      "  Evaluated 206 individuals\n",
      "  Min 76.0\n",
      "  Max 88.0\n",
      "  Avg 82.96333333333334\n",
      "  Std 1.8372050027749371\n",
      "-- Generation 14 --\n",
      "  Evaluated 219 individuals\n",
      "  Min 79.0\n",
      "  Max 89.0\n",
      "  Avg 84.35\n",
      "  Std 1.6454482671908424\n",
      "-- Generation 15 --\n",
      "  Evaluated 226 individuals\n",
      "  Min 77.0\n",
      "  Max 90.0\n",
      "  Avg 85.58\n",
      "  Std 1.7748990581628716\n",
      "-- Generation 16 --\n",
      "  Evaluated 223 individuals\n",
      "  Min 80.0\n",
      "  Max 91.0\n",
      "  Avg 86.79\n",
      "  Std 1.7124738440821452\n",
      "-- Generation 17 --\n",
      "  Evaluated 215 individuals\n",
      "  Min 76.0\n",
      "  Max 92.0\n",
      "  Avg 87.93333333333334\n",
      "  Std 1.9770910168447515\n",
      "-- Generation 18 --\n",
      "  Evaluated 209 individuals\n",
      "  Min 83.0\n",
      "  Max 93.0\n",
      "  Avg 89.26333333333334\n",
      "  Std 1.4608178835463304\n",
      "-- Generation 19 --\n",
      "  Evaluated 224 individuals\n",
      "  Min 82.0\n",
      "  Max 94.0\n",
      "  Avg 90.09333333333333\n",
      "  Std 1.646599188901055\n",
      "-- Generation 20 --\n",
      "  Evaluated 205 individuals\n",
      "  Min 85.0\n",
      "  Max 96.0\n",
      "  Avg 91.17666666666666\n",
      "  Std 1.318631445434909\n",
      "-- Generation 21 --\n",
      "  Evaluated 227 individuals\n",
      "  Min 84.0\n",
      "  Max 96.0\n",
      "  Avg 92.18333333333334\n",
      "  Std 1.3050117070562524\n",
      "-- Generation 22 --\n",
      "  Evaluated 222 individuals\n",
      "  Min 85.0\n",
      "  Max 96.0\n",
      "  Avg 92.96666666666667\n",
      "  Std 1.4067298564005928\n",
      "-- Generation 23 --\n",
      "  Evaluated 227 individuals\n",
      "  Min 88.0\n",
      "  Max 97.0\n",
      "  Avg 93.79666666666667\n",
      "  Std 1.18686796045517\n",
      "-- Generation 24 --\n",
      "  Evaluated 210 individuals\n",
      "  Min 88.0\n",
      "  Max 97.0\n",
      "  Avg 94.5\n",
      "  Std 1.454876856186388\n",
      "-- Generation 25 --\n",
      "  Evaluated 210 individuals\n",
      "  Min 87.0\n",
      "  Max 99.0\n",
      "  Avg 95.51\n",
      "  Std 1.3723094889025946\n",
      "-- Generation 26 --\n",
      "  Evaluated 230 individuals\n",
      "  Min 87.0\n",
      "  Max 99.0\n",
      "  Avg 96.26\n",
      "  Std 1.3853038174586316\n",
      "-- Generation 27 --\n",
      "  Evaluated 202 individuals\n",
      "  Min 90.0\n",
      "  Max 99.0\n",
      "  Avg 97.06666666666666\n",
      "  Std 1.1841546445557343\n",
      "-- Generation 28 --\n",
      "  Evaluated 213 individuals\n",
      "  Min 88.0\n",
      "  Max 100.0\n",
      "  Avg 97.56666666666666\n",
      "  Std 1.473846064629327\n",
      "-- Generation 29 --\n",
      "  Evaluated 212 individuals\n",
      "  Min 87.0\n",
      "  Max 100.0\n",
      "  Avg 98.17666666666666\n",
      "  Std 1.3236775370996403\n",
      "-- Generation 30 --\n",
      "  Evaluated 211 individuals\n",
      "  Min 89.0\n",
      "  Max 100.0\n",
      "  Avg 98.71666666666667\n",
      "  Std 1.2012724734861258\n",
      "-- Generation 31 --\n",
      "  Evaluated 213 individuals\n",
      "  Min 91.0\n",
      "  Max 100.0\n",
      "  Avg 99.04333333333334\n",
      "  Std 1.1261093296042757\n",
      "-- Generation 32 --\n",
      "  Evaluated 223 individuals\n",
      "  Min 94.0\n",
      "  Max 100.0\n",
      "  Avg 99.49666666666667\n",
      "  Std 0.7280033577447299\n",
      "-- Generation 33 --\n",
      "  Evaluated 230 individuals\n",
      "  Min 91.0\n",
      "  Max 100.0\n",
      "  Avg 99.87666666666667\n",
      "  Std 0.6229945603460535\n",
      "-- Generation 34 --\n",
      "  Evaluated 203 individuals\n",
      "  Min 94.0\n",
      "  Max 100.0\n",
      "  Avg 99.86666666666666\n",
      "  Std 0.8219218670636318\n",
      "-- Generation 35 --\n",
      "  Evaluated 203 individuals\n",
      "  Min 91.0\n",
      "  Max 100.0\n",
      "  Avg 99.79333333333334\n",
      "  Std 1.0880972178782318\n",
      "-- Generation 36 --\n",
      "  Evaluated 204 individuals\n",
      "  Min 91.0\n",
      "  Max 100.0\n",
      "  Avg 99.82\n",
      "  Std 1.042880625959926\n",
      "-- Generation 37 --\n",
      "  Evaluated 202 individuals\n",
      "  Min 91.0\n",
      "  Max 100.0\n",
      "  Avg 99.86\n",
      "  Std 0.8681781691179539\n",
      "-- Generation 38 --\n",
      "  Evaluated 212 individuals\n",
      "  Min 93.0\n",
      "  Max 100.0\n",
      "  Avg 99.87333333333333\n",
      "  Std 0.7597952940691313\n",
      "-- Generation 39 --\n",
      "  Evaluated 207 individuals\n",
      "  Min 93.0\n",
      "  Max 100.0\n",
      "  Avg 99.85\n",
      "  Std 0.8911602923539562\n",
      "-- End of (successful) evolution --\n",
      "Best individual is [1, 1, 1, 1, 1, 1, 1, 1, 1, 1, 1, 1, 1, 1, 1, 1, 1, 1, 1, 1, 1, 1, 1, 1, 1, 1, 1, 1, 1, 1, 1, 1, 1, 1, 1, 1, 1, 1, 1, 1, 1, 1, 1, 1, 1, 1, 1, 1, 1, 1, 1, 1, 1, 1, 1, 1, 1, 1, 1, 1, 1, 1, 1, 1, 1, 1, 1, 1, 1, 1, 1, 1, 1, 1, 1, 1, 1, 1, 1, 1, 1, 1, 1, 1, 1, 1, 1, 1, 1, 1, 1, 1, 1, 1, 1, 1, 1, 1, 1, 1], (100.0,)\n"
     ]
    }
   ],
   "source": [
    "if __name__ == \"__main__\": main()"
   ]
  },
  {
   "cell_type": "code",
   "execution_count": 16,
   "metadata": {
    "collapsed": true
   },
   "outputs": [],
   "source": [
    "import mido"
   ]
  },
  {
   "cell_type": "code",
   "execution_count": 26,
   "metadata": {
    "collapsed": false
   },
   "outputs": [
    {
     "ename": "IndentationError",
     "evalue": "unindent does not match any outer indentation level (<ipython-input-26-e775a1668a6e>, line 17)",
     "output_type": "error",
     "traceback": [
      "\u001b[0;36m  File \u001b[0;32m\"<ipython-input-26-e775a1668a6e>\"\u001b[0;36m, line \u001b[0;32m17\u001b[0m\n\u001b[0;31m    def forward(self, x, t, train=True, dropout_ratio=0.5):\u001b[0m\n\u001b[0m                                                           ^\u001b[0m\n\u001b[0;31mIndentationError\u001b[0m\u001b[0;31m:\u001b[0m unindent does not match any outer indentation level\n"
     ]
    }
   ],
   "source": []
  },
  {
   "cell_type": "code",
   "execution_count": 28,
   "metadata": {
    "collapsed": false
   },
   "outputs": [],
   "source": [
    "from chainer import *\n",
    "import chainer.functions as F\n",
    "import chainer.links as L"
   ]
  },
  {
   "cell_type": "code",
   "execution_count": 27,
   "metadata": {
    "collapsed": false
   },
   "outputs": [
    {
     "ename": "SyntaxError",
     "evalue": "unexpected EOF while parsing (<ipython-input-27-6419c94d56cd>, line 5)",
     "output_type": "error",
     "traceback": [
      "\u001b[0;36m  File \u001b[0;32m\"<ipython-input-27-6419c94d56cd>\"\u001b[0;36m, line \u001b[0;32m5\u001b[0m\n\u001b[0;31m    \u001b[0m\n\u001b[0m    ^\u001b[0m\n\u001b[0;31mSyntaxError\u001b[0m\u001b[0;31m:\u001b[0m unexpected EOF while parsing\n"
     ]
    }
   ],
   "source": [
    "class MnistMLP(Chain):\n",
    "    def __init__(self,n_in,n_units,n_out):\n",
    "        super(MnistMLP,self).__init_"
   ]
  },
  {
   "cell_type": "code",
   "execution_count": 13,
   "metadata": {
    "collapsed": false
   },
   "outputs": [
    {
     "ename": "NameError",
     "evalue": "name 'best_ind' is not defined",
     "output_type": "error",
     "traceback": [
      "\u001b[0;31m---------------------------------------------------------------------------\u001b[0m",
      "\u001b[0;31mNameError\u001b[0m                                 Traceback (most recent call last)",
      "\u001b[0;32m<ipython-input-13-2f357d1a5499>\u001b[0m in \u001b[0;36m<module>\u001b[0;34m()\u001b[0m\n\u001b[0;32m----> 1\u001b[0;31m \u001b[0mbest_ind\u001b[0m\u001b[1;33m\u001b[0m\u001b[0m\n\u001b[0m",
      "\u001b[0;31mNameError\u001b[0m: name 'best_ind' is not defined"
     ]
    }
   ],
   "source": [
    "best_ind"
   ]
  },
  {
   "cell_type": "code",
   "execution_count": null,
   "metadata": {
    "collapsed": true
   },
   "outputs": [],
   "source": []
  }
 ],
 "metadata": {
  "kernelspec": {
   "display_name": "Python 3",
   "language": "python",
   "name": "python3"
  },
  "language_info": {
   "codemirror_mode": {
    "name": "ipython",
    "version": 3
   },
   "file_extension": ".py",
   "mimetype": "text/x-python",
   "name": "python",
   "nbconvert_exporter": "python",
   "pygments_lexer": "ipython3",
   "version": "3.6.0"
  }
 },
 "nbformat": 4,
 "nbformat_minor": 2
}
